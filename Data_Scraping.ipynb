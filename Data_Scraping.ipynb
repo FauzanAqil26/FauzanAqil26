{
  "nbformat": 4,
  "nbformat_minor": 0,
  "metadata": {
    "colab": {
      "provenance": []
    },
    "kernelspec": {
      "name": "python3",
      "display_name": "Python 3"
    },
    "language_info": {
      "name": "python"
    }
  },
  "cells": [
    {
      "cell_type": "code",
      "metadata": {
        "colab": {
          "base_uri": "https://localhost:8080/"
        },
        "id": "1c2a9723",
        "outputId": "1f14f64a-a5fd-48fd-fe33-a91742b54277"
      },
      "source": [
        "%pip install requests beautifulsoup4"
      ],
      "execution_count": null,
      "outputs": [
        {
          "output_type": "stream",
          "name": "stdout",
          "text": [
            "Requirement already satisfied: requests in /usr/local/lib/python3.11/dist-packages (2.32.3)\n",
            "Requirement already satisfied: beautifulsoup4 in /usr/local/lib/python3.11/dist-packages (4.13.4)\n",
            "Requirement already satisfied: charset-normalizer<4,>=2 in /usr/local/lib/python3.11/dist-packages (from requests) (3.4.2)\n",
            "Requirement already satisfied: idna<4,>=2.5 in /usr/local/lib/python3.11/dist-packages (from requests) (3.10)\n",
            "Requirement already satisfied: urllib3<3,>=1.21.1 in /usr/local/lib/python3.11/dist-packages (from requests) (2.5.0)\n",
            "Requirement already satisfied: certifi>=2017.4.17 in /usr/local/lib/python3.11/dist-packages (from requests) (2025.7.14)\n",
            "Requirement already satisfied: soupsieve>1.2 in /usr/local/lib/python3.11/dist-packages (from beautifulsoup4) (2.7)\n",
            "Requirement already satisfied: typing-extensions>=4.0.0 in /usr/local/lib/python3.11/dist-packages (from beautifulsoup4) (4.14.1)\n"
          ]
        }
      ]
    },
    {
      "cell_type": "code",
      "metadata": {
        "id": "c1456147"
      },
      "source": [
        "import requests\n",
        "from bs4 import BeautifulSoup\n",
        "\n",
        "# Set up headers to mimic a browser visit\n",
        "headers = {\n",
        "    'User-Agent': 'Mozilla/5.0 (Windows NT 10.0; Win64; x64) AppleWebKit/537.36 (KHTML, like Gecko) Chrome/91.0.4472.124 Safari/537.36'\n",
        "}\n"
      ],
      "execution_count": null,
      "outputs": []
    },
    {
      "cell_type": "code",
      "source": [
        "# URL for IMDb's \"Most Popular Movies\" (this changes weekly)\n",
        "url = \"https://www.imdb.com/chart/moviemeter/\""
      ],
      "metadata": {
        "id": "27X9lu_OjUlD"
      },
      "execution_count": null,
      "outputs": []
    },
    {
      "cell_type": "code",
      "source": [
        "# Send GET request to IMDb\n",
        "response = requests.get(url, headers=headers)"
      ],
      "metadata": {
        "id": "0LxYmi0KuCd4"
      },
      "execution_count": null,
      "outputs": []
    },
    {
      "cell_type": "code",
      "source": [
        "\n",
        "# Parse HTML content\n",
        "soup = BeautifulSoup(response.text, 'html.parser')\n",
        "\n",
        "# Find all movie entries in the chart\n",
        "movie_containers = soup.select('li.ipc-metadata-list-summary-item')\n",
        "\n",
        "print(\"IMDb Top 5 Most Popular Movies This Week:\\n\")\n",
        "\n",
        "# Extract top 5 movies\n",
        "for i, container in enumerate(movie_containers[:5], 1):\n",
        "\n",
        "        # Get title\n",
        "        title = container.select_one('h3.ipc-title__text').get_text(strip=True)\n",
        "\n",
        "        # Remove the ranking number that IMDb includes\n",
        "        title = title.split('. ')[1] if '. ' in title else title\n",
        "\n",
        "        # Get year and duration\n",
        "        metadata = container.select_one('div.sc-29531a57-7')\n",
        "        if metadata:\n",
        "            # Get all metadata items (year, duration, rating)\n",
        "            metadata_items = metadata.select('span.sc-29531a57-8')\n",
        "\n",
        "            # Extract year (first item)\n",
        "            year = metadata_items[0].get_text(strip=True) if len(metadata_items) > 0 else 'N/A'\n",
        "\n",
        "            # Extract duration (second item)\n",
        "            duration = metadata_items[1].get_text(strip=True) if len(metadata_items) > 1 else 'N/A'\n",
        "\n",
        "\n",
        "        else:\n",
        "            year = duration = 'N/A'\n",
        "\n",
        "        # Get star rating ( separate from content rating)\n",
        "        star_rating = container.select_one('span.ipc-rating-star').get_text(strip=True).split()[0]\n",
        "\n",
        "        print(f\"{i}. {title} ({year})\")\n",
        "        print(f\"   ⭐ {star_rating} | ⏱️ {duration}\")\n",
        "        print()\n",
        "\n"
      ],
      "metadata": {
        "colab": {
          "base_uri": "https://localhost:8080/"
        },
        "id": "K0c5ue7ljXqE",
        "outputId": "d1680431-fe5e-45bd-e1ed-8f2a622875a0"
      },
      "execution_count": null,
      "outputs": [
        {
          "output_type": "stream",
          "name": "stdout",
          "text": [
            "IMDb Top 5 Most Popular Movies This Week:\n",
            "\n",
            "1. Superman (2025)\n",
            "   ⭐ 7.6(157K) | ⏱️ 2h 9m\n",
            "\n",
            "2. I Know What You Did Last Summer (2025)\n",
            "   ⭐ 5.6(8.3K) | ⏱️ 1h 51m\n",
            "\n",
            "3. Jurassic World: Rebirth (2025)\n",
            "   ⭐ 6.2(67K) | ⏱️ 2h 13m\n",
            "\n",
            "4. F1 (2025)\n",
            "   ⭐ 7.9(123K) | ⏱️ 2h 35m\n",
            "\n",
            "5. Sinners (2025)\n",
            "   ⭐ 7.7(225K) | ⏱️ 2h 17m\n",
            "\n"
          ]
        }
      ]
    }
  ]
}